{
 "cells": [
  {
   "cell_type": "markdown",
   "metadata": {},
   "source": [
    "# UDACITY RL NANODEGREE: project 1 Navigation\n",
    "\n",
    "---\n",
    "\n",
    "## Preamble\n",
    "\n",
    "In this notebook, a DQN agent is used to solve a navigation problem as a first project for the  [Deep Reinforcement Learning Nanodegree](https://www.udacity.com/course/deep-reinforcement-learning-nanodegree--nd893).\n",
    "\n",
    "Before using this notebook check that you have followed the .Readme file available in [GitHub Project repository](https://github.com/BDGITAI/RL_P1_Navigation/)\n",
    "\n",
    "For the Notebook to work you will need the Banana environment executable which was placed in [GitHub Project repository](https://github.com/BDGITAI/RL_P1_Navigation/Banana_Windows_x86_64/). The environment needs to uncompressed in  `\"../Banana_Windows_x86_64/Banana.exe\"`\n",
    "\n",
    "This DQN implementation uses the Pytorch library and was tested in a **Windows 64 bits** platform using **CPU**  computation. \n",
    "\n",
    "\n",
    "This notebook is divided in two parts\n",
    "* **Part 1** : Training. We will train an Agent and see how the learning can be applied to execute a task\n",
    "* **Part 2** : To see an already trained agent you can skip to Part 2 and load a trained agent.\n",
    "\n",
    "---"
   ]
  },
  {
   "cell_type": "markdown",
   "metadata": {},
   "source": [
    "## 1. Part 1 : Training an agent "
   ]
  },
  {
   "cell_type": "markdown",
   "metadata": {},
   "source": [
    "### 1.1 Imports\n",
    "First we import the required libraries (including Unity and Pytorch)"
   ]
  },
  {
   "cell_type": "code",
   "execution_count": null,
   "metadata": {},
   "outputs": [],
   "source": [
    "from unityagents import UnityEnvironment\n",
    "import numpy as np\n",
    "import random\n",
    "import torch\n",
    "from collections import deque\n",
    "import matplotlib.pyplot as plt\n",
    "\n",
    "# import agent class\n",
    "from dqn_agent import Agent\n",
    "\n",
    "%matplotlib inline"
   ]
  },
  {
   "cell_type": "markdown",
   "metadata": {},
   "source": [
    "As mentioned above we import the Agent from the dqn_agent.\n",
    "The agent used in this notebook is created using two files:\n",
    "\n",
    "* **dqn_agent.py** : Contains the Agent and Buffer class for our agent\n",
    "* **dqn_model.py** : Contains the Model class used to build our Qfunction\n",
    "\n",
    "These files were built using the starter code provided by UDACITY during the Nanodegree lectures to solve a Lunar Lander Atari game."
   ]
  },
  {
   "cell_type": "markdown",
   "metadata": {},
   "source": [
    "### 1.2 Load environment\n",
    "Then we load the untiy environment (runtime). Before running the cell check that you have the Banana.exe file placed in the correct folder"
   ]
  },
  {
   "cell_type": "code",
   "execution_count": 3,
   "metadata": {},
   "outputs": [
    {
     "name": "stderr",
     "output_type": "stream",
     "text": [
      "INFO:unityagents:\n",
      "'Academy' started successfully!\n",
      "Unity Academy name: Academy\n",
      "        Number of Brains: 1\n",
      "        Number of External Brains : 1\n",
      "        Lesson number : 0\n",
      "        Reset Parameters :\n",
      "\t\t\n",
      "Unity brain name: BananaBrain\n",
      "        Number of Visual Observations (per agent): 0\n",
      "        Vector Observation space type: continuous\n",
      "        Vector Observation space size (per agent): 37\n",
      "        Number of stacked Vector Observation: 1\n",
      "        Vector Action space type: discrete\n",
      "        Vector Action space size (per agent): 4\n",
      "        Vector Action descriptions: , , , \n"
     ]
    }
   ],
   "source": [
    "env = UnityEnvironment(file_name=\"../Banana_Windows_x86_64/Banana.exe\")"
   ]
  },
  {
   "cell_type": "markdown",
   "metadata": {},
   "source": [
    "### 1.3 Create Agent\n",
    "Once the environment is loaded we can gather information about observation space and actions to initialise our Agent.\n",
    "The Unity python API is described [here](https://github.com/Unity-Technologies/ml-agents/blob/master/docs/Python-API.md)\n",
    "\n"
   ]
  },
  {
   "cell_type": "code",
   "execution_count": 4,
   "metadata": {},
   "outputs": [],
   "source": [
    "# The interface between the Unity environment and python is done through the use of a brain\n",
    "# get the default brain\n",
    "brain_name = env.brain_names[0]\n",
    "brain = env.brains[brain_name]\n",
    "# reset the environment\n",
    "env_info = env.reset(train_mode=True)[brain_name]\n",
    "# get the current state to determine observation \n",
    "state = env_info.vector_observations[0]            \n",
    "state_size = len(state)\n",
    "action_size = brain.vector_action_space_size  \n",
    "\n",
    "#create agent\n",
    "agent = Agent(state_size, action_size, seed=0)"
   ]
  },
  {
   "cell_type": "markdown",
   "metadata": {},
   "source": [
    "### 1.4Training Loop\n",
    "Now we can train the agent and observe the score evolution."
   ]
  },
  {
   "cell_type": "code",
   "execution_count": 5,
   "metadata": {},
   "outputs": [
    {
     "name": "stdout",
     "output_type": "stream",
     "text": [
      "Episode 100\tAverage Score: 1.06\n",
      "Episode 200\tAverage Score: 4.71\n",
      "Episode 300\tAverage Score: 8.63\n",
      "Episode 400\tAverage Score: 11.05\n",
      "Episode 500\tAverage Score: 13.47\n",
      "Episode 554\tAverage Score: 14.03\n",
      "Environment solved in 454 episodes!\tAverage Score: 14.03\n"
     ]
    },
    {
     "data": {
      "image/png": "[encoded data removed]",
      "text/plain": [
       "<Figure size 432x288 with 1 Axes>"
      ]
     },
     "metadata": {},
     "output_type": "display_data"
    }
   ],
   "source": [
    "def train(n_episodes=20000, max_t=1000, eps_start=1.0, eps_end=0.01, eps_decay=0.995):\n",
    "    \"\"\"Deep Q-Learning.\n",
    "    \n",
    "    Params\n",
    "    ======\n",
    "        n_episodes (int): maximum number of training episodes\n",
    "        max_t (int): maximum number of timesteps per episode\n",
    "        eps_start (float): starting value of epsilon, for epsilon-greedy action selection\n",
    "        eps_end (float): minimum value of epsilon\n",
    "        eps_decay (float): multiplicative factor (per episode) for decreasing epsilon\n",
    "    \"\"\"\n",
    "    scores = []                        # list containing scores from each episode\n",
    "    scores_window = deque(maxlen=100)  # last 100 scores\n",
    "    eps = eps_start                    # initialize epsilon\n",
    "    for i_episode in range(1, n_episodes+1):\n",
    "        # reset environment at the start of each episode\n",
    "        env_info = env.reset(train_mode=True)[brain_name]\n",
    "        # episode is not finished\n",
    "        done = False\n",
    "        # no reward at start\n",
    "        episode_rewards = 0\n",
    "        # get the first state of the episode\n",
    "        state = env_info.vector_observations[0]\n",
    "        score = 0\n",
    "        for t in range(max_t):\n",
    "            # decide wich action to take according to eps greedy policy\n",
    "            action = agent.act(state, eps)\n",
    "            # execute the action in the environment (interface with unity)\n",
    "            env_info = env.step(np.int32(action))[brain_name] \n",
    "            # get what is the next state\n",
    "            next_state = env_info.vector_observations[0]\n",
    "            # get rewards for action\n",
    "            reward = env_info.rewards[0]\n",
    "            # check if game ends\n",
    "            done = env_info.local_done[0]\n",
    "            # store this experience in the memory and learn if enough experiences have been gathered\n",
    "            agent.step(state, action, reward, next_state, done)\n",
    "            # update current state as next state\n",
    "            state = next_state\n",
    "            # cumul rewrd\n",
    "            score += reward\n",
    "            if done:\n",
    "                break \n",
    "        scores_window.append(score)       # save most recent score\n",
    "        scores.append(score)              # save most recent score\n",
    "        eps = max(eps_end, eps_decay*eps) # decrease epsilon\n",
    "        print('\\rEpisode {}\\tAverage Score: {:.2f}'.format(i_episode, np.mean(scores_window)), end=\"\")\n",
    "        # save network weigth every 100 episodes\n",
    "        if i_episode % 100 == 0:\n",
    "            print('\\rEpisode {}\\tAverage Score: {:.2f}'.format(i_episode, np.mean(scores_window)))\n",
    "            path = 'checkpoint_'+str(i_episode)+'.pth'\n",
    "            torch.save(agent.qnetwork_local.state_dict(), path)\n",
    "        # target is 13 to win. 14 average is chosen as a margin\n",
    "        if np.mean(scores_window)>=14.0:\n",
    "            print('\\nEnvironment solved in {:d} episodes!\\tAverage Score: {:.2f}'.format(i_episode-100, np.mean(scores_window)))\n",
    "            path = 'checkpoint_'+str(i_episode)+'_score_'+str(np.mean(scores_window))+'.pth'\n",
    "            torch.save(agent.qnetwork_local.state_dict(), path)\n",
    "            break\n",
    "    return scores,path\n",
    "\n",
    "scores,weigth_path = train()\n",
    "\n",
    "# plot the scores\n",
    "fig = plt.figure()\n",
    "ax = fig.add_subplot(111)\n",
    "plt.plot(np.arange(len(scores)), scores)\n",
    "plt.ylabel('Score')\n",
    "plt.xlabel('Episode #')\n",
    "plt.show()\n"
   ]
  },
  {
   "cell_type": "markdown",
   "metadata": {},
   "source": [
    "### 1.5 Visualise a trained agent\n",
    "In the previous section we saved the weight into a file and save the path into \"weigth_path\".\n",
    "We can load these weigth into the QNetwork of our agent and see the results"
   ]
  },
  {
   "cell_type": "code",
   "execution_count": 6,
   "metadata": {},
   "outputs": [
    {
     "name": "stdout",
     "output_type": "stream",
     "text": [
      "Episode 0\tAverage Score: 16.00\n",
      "Episode 1\tAverage Score: 18.00\n",
      "Episode 2\tAverage Score: 15.00\n"
     ]
    }
   ],
   "source": [
    "# load the weights from file\n",
    "agent.qnetwork_local.load_state_dict(torch.load(weigth_path))\n",
    "\n",
    "for i in range(3):\n",
    "    # disable training mode\n",
    "    env_info = env.reset(train_mode=False)[brain_name]\n",
    "    done = False\n",
    "    score = 0\n",
    "    state = env_info.vector_observations[0]\n",
    "    while not done:\n",
    "        action = agent.act(state)\n",
    "        env_info = env.step(np.int32(action))[brain_name] \n",
    "        next_state = env_info.vector_observations[0]\n",
    "        #next_state, reward, done, _ = env.step(action)\n",
    "        done = env_info.local_done[0]\n",
    "        reward = env_info.rewards[0]\n",
    "        score += reward\n",
    "        state = next_state\n",
    "        if done:\n",
    "            break \n",
    "    print('\\rEpisode {}\\tAverage Score: {:.2f}'.format(i, score))\n",
    "env.close()\n"
   ]
  },
  {
   "cell_type": "markdown",
   "metadata": {
    "collapsed": true
   },
   "source": [
    "## Part 2 : Watching an already trained agent "
   ]
  },
  {
   "cell_type": "code",
   "execution_count": 7,
   "metadata": {},
   "outputs": [],
   "source": [
    "from unityagents import UnityEnvironment\n",
    "import numpy as np\n",
    "import random\n",
    "import torch\n",
    "from collections import deque\n",
    "import matplotlib.pyplot as plt\n",
    "\n",
    "# import agent class\n",
    "from dqn_agent import Agent\n",
    "\n",
    "%matplotlib inline"
   ]
  },
  {
   "cell_type": "code",
   "execution_count": 8,
   "metadata": {},
   "outputs": [
    {
     "name": "stderr",
     "output_type": "stream",
     "text": [
      "INFO:unityagents:\n",
      "'Academy' started successfully!\n",
      "Unity Academy name: Academy\n",
      "        Number of Brains: 1\n",
      "        Number of External Brains : 1\n",
      "        Lesson number : 0\n",
      "        Reset Parameters :\n",
      "\t\t\n",
      "Unity brain name: BananaBrain\n",
      "        Number of Visual Observations (per agent): 0\n",
      "        Vector Observation space type: continuous\n",
      "        Vector Observation space size (per agent): 37\n",
      "        Number of stacked Vector Observation: 1\n",
      "        Vector Action space type: discrete\n",
      "        Vector Action space size (per agent): 4\n",
      "        Vector Action descriptions: , , , \n"
     ]
    },
    {
     "name": "stdout",
     "output_type": "stream",
     "text": [
      "Episode 0\tAverage Score: 16.00\n",
      "Episode 1\tAverage Score: 15.00\n",
      "Episode 2\tAverage Score: 12.00\n"
     ]
    }
   ],
   "source": [
    "env = UnityEnvironment(file_name=\"../Banana_Windows_x86_64/Banana.exe\")\n",
    "# The interface between the Unity environment and python is done through the use of a brain\n",
    "# get the default brain\n",
    "brain_name = env.brain_names[0]\n",
    "brain = env.brains[brain_name]\n",
    "# reset the environment\n",
    "env_info = env.reset(train_mode=True)[brain_name]\n",
    "# get the current state to determine observation \n",
    "state = env_info.vector_observations[0]            \n",
    "state_size = len(state)\n",
    "action_size = brain.vector_action_space_size  \n",
    "weigth_path = \"./successful_weights/successful_weights.pth\"\n",
    "#create agent\n",
    "agent = Agent(state_size, action_size, seed=0)\n",
    "\n",
    "# load the weights from file\n",
    "agent.qnetwork_local.load_state_dict(torch.load(weigth_path))\n",
    "\n",
    "for i in range(3):\n",
    "    # disable training mode\n",
    "    env_info = env.reset(train_mode=False)[brain_name]\n",
    "    done = False\n",
    "    score = 0\n",
    "    state = env_info.vector_observations[0]\n",
    "    while not done:\n",
    "        action = agent.act(state)\n",
    "        env_info = env.step(np.int32(action))[brain_name] \n",
    "        next_state = env_info.vector_observations[0]\n",
    "        #next_state, reward, done, _ = env.step(action)\n",
    "        done = env_info.local_done[0]\n",
    "        reward = env_info.rewards[0]\n",
    "        score += reward\n",
    "        state = next_state\n",
    "        if done:\n",
    "            break \n",
    "    print('\\rEpisode {}\\tAverage Score: {:.2f}'.format(i, score))\n",
    "env.close()"
   ]
  },
  {
   "cell_type": "code",
   "execution_count": null,
   "metadata": {},
   "outputs": [],
   "source": []
  }
 ],
 "metadata": {
  "kernelspec": {
   "display_name": "Python 3",
   "language": "python",
   "name": "python3"
  },
  "language_info": {
   "codemirror_mode": {
    "name": "ipython",
    "version": 3
   },
   "file_extension": ".py",
   "mimetype": "text/x-python",
   "name": "python",
   "nbconvert_exporter": "python",
   "pygments_lexer": "ipython3",
   "version": "3.6.6"
  }
 },
 "nbformat": 4,
 "nbformat_minor": 2
}
